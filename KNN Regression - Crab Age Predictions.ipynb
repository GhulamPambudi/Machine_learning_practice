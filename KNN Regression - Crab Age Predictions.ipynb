{
 "cells": [
  {
   "cell_type": "code",
   "execution_count": 5,
   "id": "8f86cb1e",
   "metadata": {},
   "outputs": [],
   "source": [
    "import numpy as np\n",
    "import pandas as pd\n",
    "import matplotlib.pyplot as plt"
   ]
  },
  {
   "cell_type": "markdown",
   "id": "ee6415de",
   "metadata": {},
   "source": [
    "### Load Data "
   ]
  },
  {
   "cell_type": "code",
   "execution_count": 6,
   "id": "fe71ad1f",
   "metadata": {
    "scrolled": true
   },
   "outputs": [
    {
     "data": {
      "text/html": [
       "<div>\n",
       "<style scoped>\n",
       "    .dataframe tbody tr th:only-of-type {\n",
       "        vertical-align: middle;\n",
       "    }\n",
       "\n",
       "    .dataframe tbody tr th {\n",
       "        vertical-align: top;\n",
       "    }\n",
       "\n",
       "    .dataframe thead th {\n",
       "        text-align: right;\n",
       "    }\n",
       "</style>\n",
       "<table border=\"1\" class=\"dataframe\">\n",
       "  <thead>\n",
       "    <tr style=\"text-align: right;\">\n",
       "      <th></th>\n",
       "      <th>Unnamed: 0</th>\n",
       "      <th>Sex</th>\n",
       "      <th>Length</th>\n",
       "      <th>Age</th>\n",
       "    </tr>\n",
       "  </thead>\n",
       "  <tbody>\n",
       "    <tr>\n",
       "      <th>0</th>\n",
       "      <td>0</td>\n",
       "      <td>F</td>\n",
       "      <td>1.4375</td>\n",
       "      <td>9</td>\n",
       "    </tr>\n",
       "    <tr>\n",
       "      <th>1</th>\n",
       "      <td>1</td>\n",
       "      <td>M</td>\n",
       "      <td>0.8875</td>\n",
       "      <td>6</td>\n",
       "    </tr>\n",
       "    <tr>\n",
       "      <th>2</th>\n",
       "      <td>2</td>\n",
       "      <td>I</td>\n",
       "      <td>1.0375</td>\n",
       "      <td>6</td>\n",
       "    </tr>\n",
       "    <tr>\n",
       "      <th>3</th>\n",
       "      <td>3</td>\n",
       "      <td>F</td>\n",
       "      <td>1.1750</td>\n",
       "      <td>10</td>\n",
       "    </tr>\n",
       "    <tr>\n",
       "      <th>4</th>\n",
       "      <td>4</td>\n",
       "      <td>I</td>\n",
       "      <td>0.8875</td>\n",
       "      <td>6</td>\n",
       "    </tr>\n",
       "    <tr>\n",
       "      <th>...</th>\n",
       "      <td>...</td>\n",
       "      <td>...</td>\n",
       "      <td>...</td>\n",
       "      <td>...</td>\n",
       "    </tr>\n",
       "    <tr>\n",
       "      <th>85</th>\n",
       "      <td>85</td>\n",
       "      <td>I</td>\n",
       "      <td>1.0500</td>\n",
       "      <td>11</td>\n",
       "    </tr>\n",
       "    <tr>\n",
       "      <th>86</th>\n",
       "      <td>86</td>\n",
       "      <td>F</td>\n",
       "      <td>1.4000</td>\n",
       "      <td>9</td>\n",
       "    </tr>\n",
       "    <tr>\n",
       "      <th>87</th>\n",
       "      <td>87</td>\n",
       "      <td>I</td>\n",
       "      <td>1.3000</td>\n",
       "      <td>11</td>\n",
       "    </tr>\n",
       "    <tr>\n",
       "      <th>88</th>\n",
       "      <td>88</td>\n",
       "      <td>M</td>\n",
       "      <td>1.5750</td>\n",
       "      <td>8</td>\n",
       "    </tr>\n",
       "    <tr>\n",
       "      <th>89</th>\n",
       "      <td>89</td>\n",
       "      <td>M</td>\n",
       "      <td>1.5000</td>\n",
       "      <td>26</td>\n",
       "    </tr>\n",
       "  </tbody>\n",
       "</table>\n",
       "<p>90 rows × 4 columns</p>\n",
       "</div>"
      ],
      "text/plain": [
       "    Unnamed: 0 Sex  Length  Age\n",
       "0            0   F  1.4375    9\n",
       "1            1   M  0.8875    6\n",
       "2            2   I  1.0375    6\n",
       "3            3   F  1.1750   10\n",
       "4            4   I  0.8875    6\n",
       "..         ...  ..     ...  ...\n",
       "85          85   I  1.0500   11\n",
       "86          86   F  1.4000    9\n",
       "87          87   I  1.3000   11\n",
       "88          88   M  1.5750    8\n",
       "89          89   M  1.5000   26\n",
       "\n",
       "[90 rows x 4 columns]"
      ]
     },
     "execution_count": 6,
     "metadata": {},
     "output_type": "execute_result"
    }
   ],
   "source": [
    "crabs = pd.read_csv('crab.csv')\n",
    "crabs"
   ]
  },
  {
   "cell_type": "code",
   "execution_count": 7,
   "id": "854aa735",
   "metadata": {
    "scrolled": true
   },
   "outputs": [
    {
     "data": {
      "text/html": [
       "<div>\n",
       "<style scoped>\n",
       "    .dataframe tbody tr th:only-of-type {\n",
       "        vertical-align: middle;\n",
       "    }\n",
       "\n",
       "    .dataframe tbody tr th {\n",
       "        vertical-align: top;\n",
       "    }\n",
       "\n",
       "    .dataframe thead th {\n",
       "        text-align: right;\n",
       "    }\n",
       "</style>\n",
       "<table border=\"1\" class=\"dataframe\">\n",
       "  <thead>\n",
       "    <tr style=\"text-align: right;\">\n",
       "      <th></th>\n",
       "      <th>Sex</th>\n",
       "      <th>Length</th>\n",
       "      <th>Age</th>\n",
       "    </tr>\n",
       "  </thead>\n",
       "  <tbody>\n",
       "    <tr>\n",
       "      <th>0</th>\n",
       "      <td>F</td>\n",
       "      <td>1.4375</td>\n",
       "      <td>9</td>\n",
       "    </tr>\n",
       "    <tr>\n",
       "      <th>1</th>\n",
       "      <td>M</td>\n",
       "      <td>0.8875</td>\n",
       "      <td>6</td>\n",
       "    </tr>\n",
       "    <tr>\n",
       "      <th>2</th>\n",
       "      <td>I</td>\n",
       "      <td>1.0375</td>\n",
       "      <td>6</td>\n",
       "    </tr>\n",
       "    <tr>\n",
       "      <th>3</th>\n",
       "      <td>F</td>\n",
       "      <td>1.1750</td>\n",
       "      <td>10</td>\n",
       "    </tr>\n",
       "    <tr>\n",
       "      <th>4</th>\n",
       "      <td>I</td>\n",
       "      <td>0.8875</td>\n",
       "      <td>6</td>\n",
       "    </tr>\n",
       "    <tr>\n",
       "      <th>...</th>\n",
       "      <td>...</td>\n",
       "      <td>...</td>\n",
       "      <td>...</td>\n",
       "    </tr>\n",
       "    <tr>\n",
       "      <th>85</th>\n",
       "      <td>I</td>\n",
       "      <td>1.0500</td>\n",
       "      <td>11</td>\n",
       "    </tr>\n",
       "    <tr>\n",
       "      <th>86</th>\n",
       "      <td>F</td>\n",
       "      <td>1.4000</td>\n",
       "      <td>9</td>\n",
       "    </tr>\n",
       "    <tr>\n",
       "      <th>87</th>\n",
       "      <td>I</td>\n",
       "      <td>1.3000</td>\n",
       "      <td>11</td>\n",
       "    </tr>\n",
       "    <tr>\n",
       "      <th>88</th>\n",
       "      <td>M</td>\n",
       "      <td>1.5750</td>\n",
       "      <td>8</td>\n",
       "    </tr>\n",
       "    <tr>\n",
       "      <th>89</th>\n",
       "      <td>M</td>\n",
       "      <td>1.5000</td>\n",
       "      <td>26</td>\n",
       "    </tr>\n",
       "  </tbody>\n",
       "</table>\n",
       "<p>90 rows × 3 columns</p>\n",
       "</div>"
      ],
      "text/plain": [
       "   Sex  Length  Age\n",
       "0    F  1.4375    9\n",
       "1    M  0.8875    6\n",
       "2    I  1.0375    6\n",
       "3    F  1.1750   10\n",
       "4    I  0.8875    6\n",
       "..  ..     ...  ...\n",
       "85   I  1.0500   11\n",
       "86   F  1.4000    9\n",
       "87   I  1.3000   11\n",
       "88   M  1.5750    8\n",
       "89   M  1.5000   26\n",
       "\n",
       "[90 rows x 3 columns]"
      ]
     },
     "execution_count": 7,
     "metadata": {},
     "output_type": "execute_result"
    }
   ],
   "source": [
    "crab = crabs.iloc[:,1:]\n",
    "crab"
   ]
  },
  {
   "cell_type": "markdown",
   "id": "53fc54a6",
   "metadata": {},
   "source": [
    "### Data Preprocessing : converting feature of sex to binary label"
   ]
  },
  {
   "cell_type": "code",
   "execution_count": 8,
   "id": "c320071a",
   "metadata": {},
   "outputs": [
    {
     "name": "stdout",
     "output_type": "stream",
     "text": [
      "feature sex :  ['F' 'M' 'I']\n",
      "feature sex in biner :  [0 2 1]\n"
     ]
    }
   ],
   "source": [
    "from sklearn.preprocessing import LabelEncoder\n",
    "\n",
    "lb = LabelEncoder()\n",
    "feature_sex = np.array(crab.Sex.unique())\n",
    "print('feature sex : ',feature_sex)\n",
    "\n",
    "feature_sex_biner = lb.fit_transform(feature_sex)\n",
    "print('feature sex in biner : ',feature_sex_biner)"
   ]
  },
  {
   "cell_type": "code",
   "execution_count": 9,
   "id": "3a9d26a3",
   "metadata": {},
   "outputs": [
    {
     "name": "stdout",
     "output_type": "stream",
     "text": [
      "feature of sex in array:\n",
      " [0 2 1 0 1 0 0 2 1 1 2 0 2 1 1 0 2 1 2 1 2 0 1 1 0 2 2 2 0 1 2 1 1 0 2 2 1\n",
      " 0 1 1 1 1 0 2 1 0 2 0 0 2 2 2 1 0 1 0 0 1 1 0 1 1 1 1 0 2 2 1 2 2 2 0 2 2\n",
      " 2 1 1 0 1 2 0 0 2 2 2 1 0 1 2 2]\n",
      "\n",
      "feature of length in array:\n",
      " [1.4375 0.8875 1.0375 1.175  0.8875 1.55   1.3    1.325  1.5875 0.9125\n",
      " 0.825  1.3625 0.8625 1.375  1.225  1.6375 1.6    1.0625 1.475  0.7625\n",
      " 1.1125 1.625  0.925  0.575  1.2625 1.2625 1.3375 1.525  1.575  1.0875\n",
      " 1.0625 1.25   1.2625 1.4875 1.55   1.4    1.1125 1.0125 0.75   1.05\n",
      " 1.4375 0.8    1.7    1.5125 1.0375 1.725  1.25   1.725  1.375  1.525\n",
      " 1.1375 1.8    1.375  1.3125 1.175  1.775  1.4375 0.6875 1.325  1.2625\n",
      " 1.0625 1.075  0.825  1.6375 1.6125 1.3125 1.6875 1.275  1.4625 0.925\n",
      " 0.7    1.325  0.875  1.525  1.125  1.4625 1.35   1.35   1.325  1.9375\n",
      " 1.3125 1.55   1.575  1.25   1.85   1.05   1.4    1.3    1.575  1.5   ]\n"
     ]
    }
   ],
   "source": [
    "feature_sex_array = lb.fit_transform(np.array(crab['Sex']))\n",
    "print('feature of sex in array:\\n',feature_sex_array)\n",
    "print('')\n",
    "feature_length_array = np.array(crab['Length'])\n",
    "print('feature of length in array:\\n',feature_length_array)"
   ]
  },
  {
   "cell_type": "markdown",
   "id": "5c46db64",
   "metadata": {},
   "source": [
    "### Combining These Two Features as Numpy Array"
   ]
  },
  {
   "cell_type": "code",
   "execution_count": 10,
   "id": "06d0e37e",
   "metadata": {
    "scrolled": true
   },
   "outputs": [
    {
     "name": "stdout",
     "output_type": "stream",
     "text": [
      "features :\n",
      " [[0.     1.4375]\n",
      " [2.     0.8875]\n",
      " [1.     1.0375]\n",
      " [0.     1.175 ]\n",
      " [1.     0.8875]\n",
      " [0.     1.55  ]\n",
      " [0.     1.3   ]\n",
      " [2.     1.325 ]\n",
      " [1.     1.5875]\n",
      " [1.     0.9125]\n",
      " [2.     0.825 ]\n",
      " [0.     1.3625]\n",
      " [2.     0.8625]\n",
      " [1.     1.375 ]\n",
      " [1.     1.225 ]\n",
      " [0.     1.6375]\n",
      " [2.     1.6   ]\n",
      " [1.     1.0625]\n",
      " [2.     1.475 ]\n",
      " [1.     0.7625]\n",
      " [2.     1.1125]\n",
      " [0.     1.625 ]\n",
      " [1.     0.925 ]\n",
      " [1.     0.575 ]\n",
      " [0.     1.2625]\n",
      " [2.     1.2625]\n",
      " [2.     1.3375]\n",
      " [2.     1.525 ]\n",
      " [0.     1.575 ]\n",
      " [1.     1.0875]\n",
      " [2.     1.0625]\n",
      " [1.     1.25  ]\n",
      " [1.     1.2625]\n",
      " [0.     1.4875]\n",
      " [2.     1.55  ]\n",
      " [2.     1.4   ]\n",
      " [1.     1.1125]\n",
      " [0.     1.0125]\n",
      " [1.     0.75  ]\n",
      " [1.     1.05  ]\n",
      " [1.     1.4375]\n",
      " [1.     0.8   ]\n",
      " [0.     1.7   ]\n",
      " [2.     1.5125]\n",
      " [1.     1.0375]\n",
      " [0.     1.725 ]\n",
      " [2.     1.25  ]\n",
      " [0.     1.725 ]\n",
      " [0.     1.375 ]\n",
      " [2.     1.525 ]\n",
      " [2.     1.1375]\n",
      " [2.     1.8   ]\n",
      " [1.     1.375 ]\n",
      " [0.     1.3125]\n",
      " [1.     1.175 ]\n",
      " [0.     1.775 ]\n",
      " [0.     1.4375]\n",
      " [1.     0.6875]\n",
      " [1.     1.325 ]\n",
      " [0.     1.2625]\n",
      " [1.     1.0625]\n",
      " [1.     1.075 ]\n",
      " [1.     0.825 ]\n",
      " [1.     1.6375]\n",
      " [0.     1.6125]\n",
      " [2.     1.3125]\n",
      " [2.     1.6875]\n",
      " [1.     1.275 ]\n",
      " [2.     1.4625]\n",
      " [2.     0.925 ]\n",
      " [2.     0.7   ]\n",
      " [0.     1.325 ]\n",
      " [2.     0.875 ]\n",
      " [2.     1.525 ]\n",
      " [2.     1.125 ]\n",
      " [1.     1.4625]\n",
      " [1.     1.35  ]\n",
      " [0.     1.35  ]\n",
      " [1.     1.325 ]\n",
      " [2.     1.9375]\n",
      " [0.     1.3125]\n",
      " [0.     1.55  ]\n",
      " [2.     1.575 ]\n",
      " [2.     1.25  ]\n",
      " [2.     1.85  ]\n",
      " [1.     1.05  ]\n",
      " [0.     1.4   ]\n",
      " [1.     1.3   ]\n",
      " [2.     1.575 ]\n",
      " [2.     1.5   ]]\n",
      "\n",
      "target :\n",
      " [ 9  6  6 10  6  8 15 10 13  7  6 10  9 10 11 12 10  7 11  6  7 11  6  5\n",
      "  9 12  8 12 11  8  9  8  7 20 13  8  7 13  8  9 10  5 11 10  8 15 11 10\n",
      "  9  9  8 11 17 11  7 17  9  4  8 12 10  6  7 15 11 12 11  9 11  8  5  6\n",
      " 13 10  6 10  9 13  9 17 11 13 19  9 12 11  9 11  8 26]\n"
     ]
    }
   ],
   "source": [
    "features = np.stack((feature_sex_array,feature_length_array),axis=1)\n",
    "print('features :\\n',features)\n",
    "print('')\n",
    "target = np.array(crab['Age'])\n",
    "print('target :\\n',target)"
   ]
  },
  {
   "cell_type": "markdown",
   "id": "e573c915",
   "metadata": {},
   "source": [
    "### Data Visualization in 3D"
   ]
  },
  {
   "cell_type": "code",
   "execution_count": 11,
   "id": "a5213a93",
   "metadata": {
    "scrolled": true
   },
   "outputs": [
    {
     "data": {
      "image/png": "[encoded data removed]",
      "text/plain": [
       "<Figure size 504x504 with 1 Axes>"
      ]
     },
     "metadata": {
      "needs_background": "light"
     },
     "output_type": "display_data"
    }
   ],
   "source": [
    "plt.figure(figsize=(7,7))\n",
    "ax = plt.axes(projection='3d')\n",
    "\n",
    "x = np.array(feature_sex_array)\n",
    "y = np.array(feature_length_array)\n",
    "z = np.array(target)\n",
    "ax.set(title='Sex-Length Againts Crab Age',xlabel='Sex',ylabel='Length',zlabel='target = Age')\n",
    "\n",
    "ax.scatter(x,y,z)\n",
    "plt.show()"
   ]
  },
  {
   "cell_type": "markdown",
   "id": "8f2046d0",
   "metadata": {},
   "source": [
    "### Spliting Train and Test Data from Scratch, without Scikit-learn"
   ]
  },
  {
   "cell_type": "code",
   "execution_count": 12,
   "id": "59f59b25",
   "metadata": {},
   "outputs": [],
   "source": [
    "from sklearn.model_selection import train_test_split\n",
    "\n",
    "features_train,features_test,y_train_list,y_test_list = train_test_split(features,target,test_size=0.25,random_state=20)"
   ]
  },
  {
   "cell_type": "code",
   "execution_count": 13,
   "id": "234b4a04",
   "metadata": {},
   "outputs": [
    {
     "name": "stdout",
     "output_type": "stream",
     "text": [
      "features of train :\n",
      " [[2.     0.8875]\n",
      " [2.     1.25  ]\n",
      " [2.     1.6875]\n",
      " [1.     0.7625]\n",
      " [1.     1.1125]\n",
      " [1.     1.05  ]\n",
      " [0.     1.775 ]\n",
      " [1.     1.175 ]\n",
      " [1.     0.75  ]\n",
      " [1.     1.5875]\n",
      " [1.     1.375 ]\n",
      " [2.     1.525 ]\n",
      " [1.     0.8875]\n",
      " [2.     0.875 ]\n",
      " [2.     1.85  ]\n",
      " [2.     1.525 ]\n",
      " [2.     1.25  ]\n",
      " [1.     1.6375]\n",
      " [2.     1.0625]\n",
      " [0.     1.7   ]\n",
      " [0.     1.375 ]\n",
      " [0.     1.4875]\n",
      " [2.     1.8   ]\n",
      " [0.     1.2625]\n",
      " [0.     1.2625]\n",
      " [1.     1.225 ]\n",
      " [2.     1.3125]\n",
      " [0.     1.725 ]\n",
      " [1.     1.0875]\n",
      " [0.     1.3625]\n",
      " [1.     1.35  ]\n",
      " [2.     1.125 ]\n",
      " [2.     1.5   ]\n",
      " [0.     1.6125]\n",
      " [0.     1.35  ]\n",
      " [2.     1.5125]\n",
      " [0.     1.4375]\n",
      " [1.     1.0625]\n",
      " [2.     1.525 ]\n",
      " [2.     0.925 ]\n",
      " [2.     0.7   ]\n",
      " [2.     1.475 ]\n",
      " [1.     1.05  ]\n",
      " [2.     0.825 ]\n",
      " [1.     1.2625]\n",
      " [1.     0.6875]\n",
      " [1.     1.075 ]\n",
      " [0.     1.175 ]\n",
      " [2.     1.2625]\n",
      " [1.     1.325 ]\n",
      " [1.     1.375 ]\n",
      " [0.     1.3125]\n",
      " [0.     1.3   ]\n",
      " [2.     1.325 ]\n",
      " [2.     1.9375]\n",
      " [1.     0.825 ]\n",
      " [2.     1.6   ]\n",
      " [2.     1.3375]\n",
      " [1.     1.4375]\n",
      " [2.     1.55  ]\n",
      " [0.     1.325 ]\n",
      " [1.     0.925 ]\n",
      " [1.     1.4625]\n",
      " [2.     1.1125]\n",
      " [1.     0.9125]\n",
      " [0.     1.575 ]\n",
      " [0.     1.6375]]\n",
      "train target :\n",
      " [ 6  9 11  6  7  9 17  7  8 13 17 12  6 13 12  9 11 15  9 11  9 20 11 12\n",
      "  9 11 12 15  8 10  9  6 26 11 13 10  9  7 10  8  5 11 11  6  7  4  6 10\n",
      " 12  8 10 11 15 10 17  7 10  8 10 13  6  6 10  7  7 11 12]\n"
     ]
    }
   ],
   "source": [
    "print('features of train :\\n',features_train)\n",
    "print('train target :\\n',y_train_list)"
   ]
  },
  {
   "cell_type": "markdown",
   "id": "b7f75733",
   "metadata": {},
   "source": [
    "### Using K-Nearest Neighbors Regression Model"
   ]
  },
  {
   "cell_type": "code",
   "execution_count": 14,
   "id": "43338150",
   "metadata": {},
   "outputs": [],
   "source": [
    "from sklearn.neighbors import KNeighborsRegressor\n",
    "KReg = KNeighborsRegressor(n_neighbors = 6)"
   ]
  },
  {
   "cell_type": "code",
   "execution_count": 15,
   "id": "98b7f97b",
   "metadata": {},
   "outputs": [
    {
     "data": {
      "text/plain": [
       "KNeighborsRegressor(n_neighbors=6)"
      ]
     },
     "execution_count": 15,
     "metadata": {},
     "output_type": "execute_result"
    }
   ],
   "source": [
    "KReg.fit(features_train,y_train_list)"
   ]
  },
  {
   "cell_type": "code",
   "execution_count": 16,
   "id": "171e2e99",
   "metadata": {
    "scrolled": false
   },
   "outputs": [
    {
     "data": {
      "text/html": [
       "<div>\n",
       "<style scoped>\n",
       "    .dataframe tbody tr th:only-of-type {\n",
       "        vertical-align: middle;\n",
       "    }\n",
       "\n",
       "    .dataframe tbody tr th {\n",
       "        vertical-align: top;\n",
       "    }\n",
       "\n",
       "    .dataframe thead th {\n",
       "        text-align: right;\n",
       "    }\n",
       "</style>\n",
       "<table border=\"1\" class=\"dataframe\">\n",
       "  <thead>\n",
       "    <tr style=\"text-align: right;\">\n",
       "      <th></th>\n",
       "      <th>Sex</th>\n",
       "      <th>Sex biner</th>\n",
       "    </tr>\n",
       "  </thead>\n",
       "  <tbody>\n",
       "    <tr>\n",
       "      <th>0</th>\n",
       "      <td>F</td>\n",
       "      <td>0</td>\n",
       "    </tr>\n",
       "    <tr>\n",
       "      <th>1</th>\n",
       "      <td>M</td>\n",
       "      <td>2</td>\n",
       "    </tr>\n",
       "    <tr>\n",
       "      <th>2</th>\n",
       "      <td>I</td>\n",
       "      <td>1</td>\n",
       "    </tr>\n",
       "  </tbody>\n",
       "</table>\n",
       "</div>"
      ],
      "text/plain": [
       "  Sex  Sex biner\n",
       "0   F          0\n",
       "1   M          2\n",
       "2   I          1"
      ]
     },
     "execution_count": 16,
     "metadata": {},
     "output_type": "execute_result"
    }
   ],
   "source": [
    "target_pd = pd.DataFrame({'Sex':feature_sex,'Sex biner':feature_sex_biner})\n",
    "target_pd"
   ]
  },
  {
   "cell_type": "markdown",
   "id": "45773a22",
   "metadata": {},
   "source": [
    "### Making Predictions"
   ]
  },
  {
   "cell_type": "code",
   "execution_count": 17,
   "id": "98e45afd",
   "metadata": {
    "scrolled": true
   },
   "outputs": [
    {
     "name": "stdout",
     "output_type": "stream",
     "text": [
      "Sex of your crab : F\n",
      "Length of your crab : 1\n",
      "age of your crab is about 10.5 years old\n"
     ]
    }
   ],
   "source": [
    "def sex_biner(i):\n",
    "    return(float(target_pd['Sex biner'].loc[target_pd['Sex']==i]))\n",
    "\n",
    "tanya = str(input('Sex of your crab : '))\n",
    "length = float(input('Length of your crab : '))\n",
    "\n",
    "out1 = float(sex_biner(tanya))\n",
    "\n",
    "prediction = float(KReg.predict([[out1,length]]))\n",
    "print('age of your crab is about',round(prediction,2),'years old')"
   ]
  },
  {
   "cell_type": "code",
   "execution_count": 18,
   "id": "fc0fe8d4",
   "metadata": {},
   "outputs": [
    {
     "name": "stdout",
     "output_type": "stream",
     "text": [
      "prediction of testing data :\n",
      " [11.          8.          7.83333333  9.66666667 10.33333333  9.\n",
      "  8.          6.33333333 10.66666667 12.33333333 10.33333333 13.\n",
      " 12.33333333 11.16666667  9.83333333  6.33333333 12.83333333 12.83333333\n",
      " 10.5         9.83333333  8.         10.66666667 13.33333333]\n"
     ]
    }
   ],
   "source": [
    "test_predict = KReg.predict(features_test)\n",
    "print('prediction of testing data :\\n',test_predict)"
   ]
  },
  {
   "cell_type": "code",
   "execution_count": 19,
   "id": "fcc99e6c",
   "metadata": {
    "scrolled": true
   },
   "outputs": [
    {
     "name": "stdout",
     "output_type": "stream",
     "text": [
      "prediction of training data :\n",
      " [ 7.83333333 10.33333333 11.          6.33333333  7.33333333  8.\n",
      " 12.83333333  7.66666667  6.33333333 12.5        10.66666667 13.33333333\n",
      "  6.66666667  7.83333333 12.33333333 13.33333333 10.33333333 12.5\n",
      "  7.83333333 12.83333333  9.66666667 11.66666667 12.33333333 10.5\n",
      " 10.5         8.16666667 10.33333333 12.83333333  8.         10.66666667\n",
      " 10.16666667  9.         13.         13.33333333 10.66666667 13.\n",
      " 11.16666667  8.         13.33333333  8.16666667  7.83333333 13.\n",
      "  8.          7.83333333  9.83333333  6.33333333  8.         10.5\n",
      " 10.33333333 10.33333333 10.66666667 11.         11.         10.33333333\n",
      " 12.33333333  6.66666667 10.83333333 10.33333333 10.66666667 10.66666667\n",
      " 10.66666667  7.66666667 11.5         9.          7.66666667 12.33333333\n",
      " 12.83333333]\n"
     ]
    }
   ],
   "source": [
    "train_predict = KReg.predict(features_train)\n",
    "print('prediction of training data :\\n',train_predict)"
   ]
  },
  {
   "cell_type": "markdown",
   "id": "605fd2ab",
   "metadata": {},
   "source": [
    "### Evaluating the Model"
   ]
  },
  {
   "cell_type": "code",
   "execution_count": 20,
   "id": "5bc0c944",
   "metadata": {
    "scrolled": true
   },
   "outputs": [
    {
     "name": "stdout",
     "output_type": "stream",
     "text": [
      "Value of R-Squared :\n",
      " 0.123\n"
     ]
    }
   ],
   "source": [
    "r2_score = KReg.score(features_test,y_test_list)\n",
    "print('Value of R-Squared :\\n',round(r2_score,3))"
   ]
  },
  {
   "cell_type": "markdown",
   "id": "00bd2ce4",
   "metadata": {},
   "source": [
    "### Choose the Best Value of K and the Number of Random-State"
   ]
  },
  {
   "cell_type": "code",
   "execution_count": 21,
   "id": "09c8adfa",
   "metadata": {},
   "outputs": [
    {
     "name": "stdout",
     "output_type": "stream",
     "text": [
      "for value of neighbors is 2 and random state for train-test-split is 4839 :\n",
      "train score :  0.6466\n",
      "test score :  0.6107\n",
      "\n",
      "for value of neighbors is 1 and random state for train-test-split is 6238 :\n",
      "train score :  0.7143\n",
      "test score :  0.603\n",
      "\n",
      "for value of neighbors is 2 and random state for train-test-split is 26431 :\n",
      "train score :  0.6078\n",
      "test score :  0.6045\n",
      "\n",
      "for value of neighbors is 1 and random state for train-test-split is 29202 :\n",
      "train score :  0.7085\n",
      "test score :  0.6516\n",
      "\n",
      "for value of neighbors is 1 and random state for train-test-split is 31949 :\n",
      "train score :  0.7465\n",
      "test score :  0.602\n",
      "\n",
      "for value of neighbors is 1 and random state for train-test-split is 44399 :\n",
      "train score :  0.7496\n",
      "test score :  0.6045\n",
      "\n",
      "for value of neighbors is 2 and random state for train-test-split is 60678 :\n",
      "train score :  0.6594\n",
      "test score :  0.641\n",
      "\n",
      "for value of neighbors is 1 and random state for train-test-split is 63203 :\n",
      "train score :  0.7328\n",
      "test score :  0.6168\n",
      "\n",
      "for value of neighbors is 2 and random state for train-test-split is 79075 :\n",
      "train score :  0.661\n",
      "test score :  0.6322\n",
      "\n",
      "for value of neighbors is 1 and random state for train-test-split is 83612 :\n",
      "train score :  0.7233\n",
      "test score :  0.7092\n",
      "\n",
      "for value of neighbors is 2 and random state for train-test-split is 83612 :\n",
      "train score :  0.6266\n",
      "test score :  0.602\n",
      "\n"
     ]
    }
   ],
   "source": [
    "from sklearn.model_selection import train_test_split\n",
    "random_state_n = 0\n",
    "limit_n = 12\n",
    "range_n = np.arange(1,limit_n+1)\n",
    "n_list = []\n",
    "r2_score_test = []\n",
    "r2_score_train = []\n",
    "while random_state_n <= 100000:\n",
    "    features_train,features_test,y_train_list,y_test_list = train_test_split(features,target,test_size=0.25,random_state=random_state_n)\n",
    "    \n",
    "    for n in range_n:\n",
    "        KReg = KNeighborsRegressor(n_neighbors = n)\n",
    "        n_list.append(n)\n",
    "        KReg.fit(features_train,y_train_list)\n",
    "        r2_score_test_output = round(KReg.score(features_test,y_test_list),4)\n",
    "        r2_score_train_output = round(KReg.score(features_train,y_train_list),4)\n",
    "        if r2_score_test_output > 0.6:\n",
    "            if r2_score_train_output > 0.6:\n",
    "                print('for value of neighbors is',n,'and random state for train-test-split is',random_state_n,':')\n",
    "                print('train score : ',r2_score_train_output)\n",
    "                print('test score : ',r2_score_test_output)\n",
    "                print('')\n",
    "        r2_score_test.append(r2_score_test_output)\n",
    "        r2_score_train.append(r2_score_train_output)\n",
    "        n += 1\n",
    "    random_state_n+=1"
   ]
  },
  {
   "cell_type": "markdown",
   "id": "1246fe5b",
   "metadata": {},
   "source": [
    "### Since the Best Combination of Train Score & Test Score is in K = 1 and Random State = 83612, Then Remake the K-Nearest Neighbors and Train-Test-Split Model !!"
   ]
  },
  {
   "cell_type": "code",
   "execution_count": 22,
   "id": "f15c5dca",
   "metadata": {},
   "outputs": [],
   "source": [
    "features_train,features_test,y_train_list,y_test_list = train_test_split(features,target,test_size=0.25,random_state=83612)"
   ]
  },
  {
   "cell_type": "code",
   "execution_count": 23,
   "id": "f279b4c2",
   "metadata": {},
   "outputs": [
    {
     "data": {
      "text/plain": [
       "KNeighborsRegressor(n_neighbors=1)"
      ]
     },
     "execution_count": 23,
     "metadata": {},
     "output_type": "execute_result"
    }
   ],
   "source": [
    "KReg2 = KNeighborsRegressor(n_neighbors=1)\n",
    "KReg2"
   ]
  },
  {
   "cell_type": "code",
   "execution_count": 24,
   "id": "ac584a24",
   "metadata": {},
   "outputs": [
    {
     "data": {
      "text/plain": [
       "KNeighborsRegressor(n_neighbors=1)"
      ]
     },
     "execution_count": 24,
     "metadata": {},
     "output_type": "execute_result"
    }
   ],
   "source": [
    "KReg2.fit(features_train,y_train_list)"
   ]
  },
  {
   "cell_type": "markdown",
   "id": "b04170da",
   "metadata": {},
   "source": [
    "### Making Predictions Based on Newest Model"
   ]
  },
  {
   "cell_type": "code",
   "execution_count": 25,
   "id": "2181d5b8",
   "metadata": {},
   "outputs": [
    {
     "name": "stdout",
     "output_type": "stream",
     "text": [
      "Sex of your crab : F\n",
      "Length of your crab : 1\n",
      "age of your crab is about 10.0 years old\n"
     ]
    }
   ],
   "source": [
    "def sex_biner(i):\n",
    "    return(float(target_pd['Sex biner'].loc[target_pd['Sex']==i]))\n",
    "\n",
    "tanya = str(input('Sex of your crab : '))\n",
    "length = float(input('Length of your crab : '))\n",
    "\n",
    "out1 = float(sex_biner(tanya))\n",
    "\n",
    "prediction = float(KReg2.predict([[out1,length]]))\n",
    "print('age of your crab is about',round(prediction,2),'years old')"
   ]
  },
  {
   "cell_type": "markdown",
   "id": "5b671d8e",
   "metadata": {},
   "source": [
    "### Evaluating the Newest Model"
   ]
  },
  {
   "cell_type": "code",
   "execution_count": 26,
   "id": "97490ed3",
   "metadata": {
    "scrolled": true
   },
   "outputs": [
    {
     "data": {
      "text/plain": [
       "array([ 7.,  8.,  6.,  7., 10.,  6.,  9., 11.,  7.,  7., 10., 10., 15.,\n",
       "        9.,  8., 13., 10.,  6.,  8.,  8.,  9.,  6., 15.])"
      ]
     },
     "execution_count": 26,
     "metadata": {},
     "output_type": "execute_result"
    }
   ],
   "source": [
    "y_pred_2 = KReg2.predict(features_test)\n",
    "y_pred_2"
   ]
  },
  {
   "cell_type": "code",
   "execution_count": 27,
   "id": "229cf3ce",
   "metadata": {
    "scrolled": true
   },
   "outputs": [
    {
     "name": "stdout",
     "output_type": "stream",
     "text": [
      "test score of newest model :  0.7092\n"
     ]
    }
   ],
   "source": [
    "KReg2_test_score = KReg2.score(features_test,y_test_list)\n",
    "print('test score of newest model : ',round(KReg2_test_score,4))"
   ]
  },
  {
   "cell_type": "code",
   "execution_count": 28,
   "id": "1c32d6be",
   "metadata": {},
   "outputs": [
    {
     "name": "stdout",
     "output_type": "stream",
     "text": [
      "train score of newest model :  0.7233\n"
     ]
    }
   ],
   "source": [
    "KReg2_train_score = KReg2.score(features_train,y_train_list)\n",
    "print('train score of newest model : ',round(KReg2_train_score,4))"
   ]
  }
 ],
 "metadata": {
  "kernelspec": {
   "display_name": "Python 3 (ipykernel)",
   "language": "python",
   "name": "python3"
  },
  "language_info": {
   "codemirror_mode": {
    "name": "ipython",
    "version": 3
   },
   "file_extension": ".py",
   "mimetype": "text/x-python",
   "name": "python",
   "nbconvert_exporter": "python",
   "pygments_lexer": "ipython3",
   "version": "3.9.7"
  }
 },
 "nbformat": 4,
 "nbformat_minor": 5
}
